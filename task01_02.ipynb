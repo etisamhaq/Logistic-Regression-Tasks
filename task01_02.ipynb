{
 "cells": [
  {
   "cell_type": "markdown",
   "metadata": {},
   "source": [
    "## Implementing an AND gate using Logistic Regression"
   ]
  },
  {
   "cell_type": "code",
   "execution_count": 1,
   "metadata": {},
   "outputs": [
    {
     "name": "stdout",
     "output_type": "stream",
     "text": [
      "Accuracy: 1.0\n",
      "Coefficients: [-0.18995119 -0.18995119]\n",
      "Intercept: 1.0132056920249588\n"
     ]
    }
   ],
   "source": [
    "import numpy as np\n",
    "import pandas as pd\n",
    "\n",
    "# Prepare the dataset\n",
    "data = {\n",
    "    'Input1': [0, 0, 1, 1],\n",
    "    'Input2': [0, 1, 0, 1],\n",
    "    'Output': [0, 0, 0, 1]\n",
    "}\n",
    "df = pd.DataFrame(data)\n",
    "\n",
    "# Add a bias term to the input\n",
    "df['Bias'] = 1\n",
    "\n",
    "# Define sigmoid function\n",
    "def sigmoid(z):\n",
    "    return 1 / (1 + np.exp(-z))\n",
    "\n",
    "# Initialize parameters\n",
    "theta = np.zeros(df.shape[1] - 1) \n",
    "\n",
    "# Train the model\n",
    "# Gradient descent\n",
    "alpha = 0.01  # learning rate\n",
    "epochs = 1000\n",
    "m = len(df)\n",
    "\n",
    "for _ in range(epochs):\n",
    "    z = np.dot(df.iloc[:, :-1], theta)\n",
    "    h = sigmoid(z)\n",
    "    gradient = np.dot(df.iloc[:, :-1].T, (h - df['Output'])) / m\n",
    "    theta -= alpha * gradient\n",
    "\n",
    "# Make predictions\n",
    "df['Predictions'] = np.round(sigmoid(np.dot(df.iloc[:, :-1], theta)))\n",
    "\n",
    "# Evaluate the model\n",
    "accuracy = np.mean(df['Predictions'] == df['Output'])\n",
    "print(\"Accuracy:\", accuracy)\n",
    "\n",
    "# Print model parameters\n",
    "print(\"Coefficients:\", theta[:-1])\n",
    "print(\"Intercept:\", theta[-1])\n"
   ]
  },
  {
   "cell_type": "markdown",
   "metadata": {},
   "source": [
    "## Implementing an OR gate using Logistic Regression"
   ]
  },
  {
   "cell_type": "code",
   "execution_count": 2,
   "metadata": {},
   "outputs": [
    {
     "name": "stdout",
     "output_type": "stream",
     "text": [
      "Accuracy: 1.0\n",
      "Coefficients: [0.86540635 0.86540635]\n",
      "Intercept: 1.3742645473765853\n"
     ]
    }
   ],
   "source": [
    "# Prepare the dataset\n",
    "data = {\n",
    "    'Input1': [0, 0, 1, 1],\n",
    "    'Input2': [0, 1, 0, 1],\n",
    "    'Output': [0, 1, 1, 1]  # OR gate truth table\n",
    "}\n",
    "df = pd.DataFrame(data)\n",
    "\n",
    "# Add a bias term to the input\n",
    "df['Bias'] = 1\n",
    "\n",
    "# Define sigmoid function\n",
    "def sigmoid(z):\n",
    "    return 1 / (1 + np.exp(-z))\n",
    "\n",
    "# Initialize parameters\n",
    "theta = np.zeros(df.shape[1] - 1)\n",
    "\n",
    "# Train the model\n",
    "# Gradient descent\n",
    "alpha = 0.01  # learning rate\n",
    "epochs = 1000\n",
    "m = len(df)\n",
    "\n",
    "for _ in range(epochs):\n",
    "    z = np.dot(df.iloc[:, :-1], theta)\n",
    "    h = sigmoid(z)\n",
    "    gradient = np.dot(df.iloc[:, :-1].T, (h - df['Output'])) / m\n",
    "    theta -= alpha * gradient\n",
    "\n",
    "# Make predictions\n",
    "df['Predictions'] = np.round(sigmoid(np.dot(df.iloc[:, :-1], theta)))\n",
    "\n",
    "# Evaluate the model\n",
    "accuracy = np.mean(df['Predictions'] == df['Output'])\n",
    "print(\"Accuracy:\", accuracy)\n",
    "\n",
    "# Print model parameters\n",
    "print(\"Coefficients:\", theta[:-1])\n",
    "print(\"Intercept:\", theta[-1])\n"
   ]
  }
 ],
 "metadata": {
  "kernelspec": {
   "display_name": "Python 3",
   "language": "python",
   "name": "python3"
  },
  "language_info": {
   "codemirror_mode": {
    "name": "ipython",
    "version": 3
   },
   "file_extension": ".py",
   "mimetype": "text/x-python",
   "name": "python",
   "nbconvert_exporter": "python",
   "pygments_lexer": "ipython3",
   "version": "3.10.2"
  }
 },
 "nbformat": 4,
 "nbformat_minor": 2
}
